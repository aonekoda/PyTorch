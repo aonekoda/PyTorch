{
 "cells": [
  {
   "cell_type": "markdown",
   "metadata": {
    "colab_type": "text",
    "id": "emPZMU1rEGsS"
   },
   "source": [
    "# Convolutional Neural Networks\n",
    "\n",
    "## Project: 개 품종 분류기를 만들자 \n",
    "\n",
    "---\n",
    "\n",
    "이 노트북에서는 project를 수행하기 위한 template code를 제공한다. 아래의 요구 사항을 읽고 project를 완성하기 위한 code를 완성하면 된다.   \n",
    "**'(IMPLEMENTATION)'** 으로 시작하는 코드 블럭 부분은 반드시 채워 넣어야 제대로 수행된다. 각 section 별로 설명이 제공된다. 설명을 잘 읽고 요구사항에 맞추어 'TODO'부분을 직접 작성하면 된다.\n",
    "\n",
    "**'Question'** 부분의 질문에 대한 답을 **'Answer:'** 부분에 작성하면 된다.\n",
    "\n",
    "\n",
    "\n",
    "---\n",
    "### Project의 목표 \n",
    "\n",
    "이 project에서는 샘플 이미지에 있는 개를 인식하고 해당 품종을 분류하는 프로그램을 완성한다. project의 마지막 부분에서는 임의의 사진 이미지를 입력으로 받고 해당 이미지에 개가 있는지 detect하여 개가 있으면 개의 품종을 예측하여 출력하는 간단한 프로그램을 작성할 것이다.\n",
    "\n",
    "![Sample Dog Output](images/sample_dog_output.png)\n",
    "\n",
    "개의 품종을 분류하기 위해서 CNN을 사용한다. \n",
    "\n",
    "### Project 수행단계\n",
    "\n",
    "이 project를 수행하기 위한 세부 단계는 다음과 같다. \n",
    "\n",
    "* **Step 0**: Datasets을 load하고 전처리 한다.\n",
    "* **Step 1**: 사진 이미지에 개가 있는지 detect한다.\n",
    "* **Step 2**: CNN을 사용하여 개의 품종을 분류하는 모형을 밑바닥부터 생성한다.(from Scratch)\n",
    "* **Step 3**: transfer learning을 사용하여 개의 품종을 분류한다.(using Transfer Learning)\n",
    "* **Step 5**: 임의의 사진 이미지를 입력으로 받아 개의 품종을 예측하여 출력하는 프로그램을 작성한다.\n",
    "\n",
    "\n",
    "---\n",
    "\n",
    "## Step 0: Datasets을 load하고 전처리 한다.\n",
    "\n",
    "[dog dataset](https://s3-us-west-1.amazonaws.com/udacity-aind/dog-project/dogImages.zip) 을 다운로드 하여 현재 디렉토리에 `/data/dog_images` 압축해제한다.\n"
   ]
  },
  {
   "cell_type": "code",
   "execution_count": null,
   "metadata": {
    "colab": {},
    "colab_type": "code",
    "id": "sGtM1912EGsU"
   },
   "outputs": [],
   "source": [
    "import numpy as np\n",
    "from glob import glob\n",
    "\n",
    "# load filenames \n",
    "dog_files = np.array(glob(\"dogImages/*/*/*\"))\n",
    "\n",
    "# print number of images in each dataset\n",
    "print('There are %d total dog images.' % len(dog_files))"
   ]
  },
  {
   "cell_type": "markdown",
   "metadata": {
    "colab_type": "text",
    "id": "c3M4bY6CEGso"
   },
   "source": [
    "---\n",
    "## Step 1: Detect Dogs\n",
    "\n",
    "Step 1에서는 [pre-trained model](http://pytorch.org/docs/master/torchvision/models.html)을 사용하여 사진 이미지에서 개가 있는지 여부를 dectec하고자 한다.\n",
    "\n",
    "### Obtain Pre-trained VGG-16 Model\n",
    "\n",
    "다음과 같이 VGG-16 model을 다운로드 한다. VGG-16은 ImageNet으로 훈련된 모형으로 1000개의 class로 이미지를 분류한다.[1000 categories](https://gist.github.com/yrevar/942d3a0ac09ec9e5eb3a).  \n",
    "\n",
    "\n"
   ]
  },
  {
   "cell_type": "code",
   "execution_count": null,
   "metadata": {
    "colab": {},
    "colab_type": "code",
    "id": "mb_cwocNEGso"
   },
   "outputs": [],
   "source": [
    "import torch\n",
    "import torchvision.models as models\n",
    "import os\n",
    "\n",
    "os.environ['TORCH_HOME'] = '../models'\n",
    "\n",
    "# define VGG16 model\n",
    "VGG16 = models.vgg16(pretrained=True)\n",
    "\n",
    "# check if CUDA is available\n",
    "use_cuda = torch.cuda.is_available()\n",
    "\n",
    "# move model to GPU if CUDA is available\n",
    "if use_cuda:\n",
    "    VGG16 = VGG16.cuda()"
   ]
  },
  {
   "cell_type": "markdown",
   "metadata": {
    "colab_type": "text",
    "id": "kXzOz3KvEGst"
   },
   "source": [
    "### (IMPLEMENTATION) Making Predictions with a Pre-trained Model\n",
    "\n",
    "다음의 code cell에서 이미지를 입력으로 받아 해당 이미지의 class를 예측하는 함수를 만드시오.\n",
    "\n",
    "예를들면, `'dogImages/train/001.Affenpinscher/Affenpinscher_00001.jpg'`를 입력으로 받아서 pre-trained model을 통해 예측한 ImageNet class 값을 리턴 하면 된다. \n",
    "\n"
   ]
  },
  {
   "cell_type": "code",
   "execution_count": null,
   "metadata": {
    "colab": {},
    "colab_type": "code",
    "id": "eUR6x3W_EGst"
   },
   "outputs": [],
   "source": [
    "from PIL import Image\n",
    "import torchvision.transforms as transforms\n",
    "\n",
    "# Set PIL to be tolerant of image files that are truncated.\n",
    "from PIL import ImageFile\n",
    "ImageFile.LOAD_TRUNCATED_IMAGES = True\n",
    "\n",
    "def VGG16_predict(img_path):\n",
    "    '''\n",
    "    Use pre-trained VGG-16 model to obtain index corresponding to \n",
    "    predicted ImageNet class for image at specified path\n",
    "    \n",
    "    Args:\n",
    "        img_path: path to an image\n",
    "        \n",
    "    Returns:\n",
    "        Index corresponding to VGG-16 model's prediction\n",
    "    '''\n",
    "    \n",
    "    ## TODO: Complete the function.\n",
    "    ## Load and pre-process an image from the given img_path\n",
    "    ## Return the *index* of the predicted class for that image\n",
    "    \n",
    "    return None # predicted class index"
   ]
  },
  {
   "cell_type": "markdown",
   "metadata": {
    "colab_type": "text",
    "id": "ASdjhRdqEGsw"
   },
   "source": [
    "### (IMPLEMENTATION) Write a Dog Detector\n",
    "\n",
    "다음 링크--> [dictionary](https://gist.github.com/yrevar/942d3a0ac09ec9e5eb3a)를 참조해 보면 ImageNet의 1000개 class 중 151-268번에 해당하는 것이 개와 관련된 class임을 알 수 있다. 예를 들면 `'Chihuahua'`에서 `'Mexican hairless'`까지 이다. 따라서 pre-trained VGG-16 model이 예측하는 것이 151에서 268 사이의 index값을 리턴한다면 해당 이미지에서 개가 있다고 할 수 있다.\n",
    "\n",
    "이를 이용하여 `dog_detector` function을 작성한다.   \n",
    "precition index가 151~268 사이이면 개가 이미지에 있다고 판단하여 `True`를 리턴하고 그렇지 않으면  `False`를 리턴하도록 한다.\n",
    "\n"
   ]
  },
  {
   "cell_type": "code",
   "execution_count": null,
   "metadata": {
    "colab": {},
    "colab_type": "code",
    "id": "XC9NEeexEGsx"
   },
   "outputs": [],
   "source": [
    "### returns \"True\" if a dog is detected in the image stored at img_path\n",
    "def dog_detector(img_path):\n",
    "    ## TODO: Complete the function.\n",
    "    \n",
    "    return None # true/false"
   ]
  },
  {
   "cell_type": "markdown",
   "metadata": {
    "colab_type": "text",
    "id": "tM-l3aL8EGs7"
   },
   "source": [
    "---\n",
    "\n",
    "## Step 2: Create a CNN to Classify Dog Breeds (from Scratch)\n",
    "\n",
    "앞의 dog_detector fuction을 사용하여 개가 이미지에 있는지를 detect해 보았다. \n",
    "\n",
    "이번 section에서는 이미지에서 개의 품종을 예측하는 분류 모형을 생성해보자. \n",
    "\n",
    "Transfer Learning을 이용하지 않고 밑바닥부터 CNN 모형을 생성하도록 한다. 해당 모형의 test accuracy가 최소한 10%는 넘도록 모형을 훈련하여야 한다.   \n",
    "\n",
    "생성되는 모형의 구조, 하이퍼파라미터, 옵티마이저, 손실함수 등은 자유롭게 설정하도록 한다.\n",
    "\n",
    "### (IMPLEMENTATION) Specify Data Loaders for the Dog Dataset\n",
    "\n",
    "디렉토리에 저장되어 있는 개 이미지를 ImageFolder로 읽어 들인다. 해당 디렉토리는 각각  `dog_images/train`, `dog_images/valid`, `dog_images/test`로 나뉘어 있는데 이를 각각 train, valid, test dataloader로 생성한다. [custom datasets](http://pytorch.org/docs/stable/torchvision/datasets.html)을 참조할 수 있다. image augmentation을 수행하려면 [transforms](http://pytorch.org/docs/stable/torchvision/transforms.html?highlight=transform)을 참조한다.\n"
   ]
  },
  {
   "cell_type": "code",
   "execution_count": null,
   "metadata": {
    "colab": {},
    "colab_type": "code",
    "id": "rzO3ClVAEGs7"
   },
   "outputs": [],
   "source": [
    "import os\n",
    "from torchvision import datasets\n",
    "\n",
    "### TODO: Write data loaders for training, validation, and test sets\n",
    "## Specify appropriate transforms, and batch_sizes\n"
   ]
  },
  {
   "cell_type": "markdown",
   "metadata": {
    "colab_type": "text",
    "id": "yQM4h8n8EGs-"
   },
   "source": [
    "**Question :** 이미지 데이터 전처리에 대하여 다음 질문에 답해보시오. \n",
    "- 어떤 방법으로 이미지 사이즈를 조정하였나? input tensor 사이즈를 얼마로 조정하였는가? 왜 그렇게 하였는가?\n",
    "- Data augmentation을 수행하였는가? 어떤 방법으로 augmentation하였는가? (translations, flips, rotations, etc)? augmentation을 했거나 하니 않았거나, 그렇게 한 이유는 무엇인가? \n"
   ]
  },
  {
   "cell_type": "markdown",
   "metadata": {
    "colab_type": "text",
    "id": "wX_cgaV4EGs_"
   },
   "source": [
    "**Answer**: \n",
    "\n",
    "> **이곳을 더블클릭하여 여러분의 답변을 적으시오.**\n"
   ]
  },
  {
   "cell_type": "markdown",
   "metadata": {
    "colab_type": "text",
    "id": "ewYt6dcKEGtA"
   },
   "source": [
    "### (IMPLEMENTATION) Model Architecture\n",
    "\n",
    "개 품종을 분류하는 CNN 모형을 작성하시오. 아래의 template code를 적절히 활용하시오.\n"
   ]
  },
  {
   "cell_type": "code",
   "execution_count": null,
   "metadata": {
    "colab": {},
    "colab_type": "code",
    "id": "tWNfeMRDEGtA"
   },
   "outputs": [],
   "source": [
    "import torch.nn as nn\n",
    "import torch.nn.functional as F\n",
    "\n",
    "# define the CNN architecture\n",
    "class Net(nn.Module):\n",
    "    ### TODO: choose an architecture, and complete the class\n",
    "    def __init__(self):\n",
    "        super(Net, self).__init__()\n",
    "        ## Define layers of a CNN\n",
    "    \n",
    "    def forward(self, x):\n",
    "        ## Define forward behavior\n",
    "        return x\n",
    "\n",
    "#-#-# You do NOT have to modify the code below this line. #-#-#\n",
    "\n",
    "# instantiate the CNN\n",
    "model_scratch = Net()\n",
    "\n",
    "# move tensors to GPU if CUDA is available\n",
    "if use_cuda:\n",
    "    model_scratch.cuda()"
   ]
  },
  {
   "cell_type": "markdown",
   "metadata": {
    "colab_type": "text",
    "id": "0_KWAqUsEGtE"
   },
   "source": [
    "__Question :__ 다음 질문에 답해 보시오.\n",
    "\n",
    "* Kernel 사이즈는 얼마로 하였는가? stride, padding은 어떻게 정하였는가?\n",
    "* 몇 개의 Convnet을 어떻게 구성하였는가?\n",
    "* dropout을 사용하였는가?\n"
   ]
  },
  {
   "cell_type": "markdown",
   "metadata": {
    "colab_type": "text",
    "id": "BhMGWl5lEGtE"
   },
   "source": [
    "__Answer:__ \n",
    "\n",
    "> **이곳을 더블클릭하여 여러분의 답변을 적으시오.**\n"
   ]
  },
  {
   "cell_type": "markdown",
   "metadata": {
    "colab_type": "text",
    "id": "X3UIM4jvEGtF"
   },
   "source": [
    "### (IMPLEMENTATION) Specify Loss Function and Optimizer\n",
    "\n",
    "[loss function](http://pytorch.org/docs/stable/nn.html#loss-functions) 와 [optimizer](http://pytorch.org/docs/stable/optim.html) 를 선택한다. "
   ]
  },
  {
   "cell_type": "code",
   "execution_count": null,
   "metadata": {
    "colab": {},
    "colab_type": "code",
    "id": "jTzQv99PEGtF"
   },
   "outputs": [],
   "source": [
    "import torch.optim as optim\n",
    "\n",
    "### TODO: select loss function\n",
    "criterion_scratch = None\n",
    "\n",
    "### TODO: select optimizer\n",
    "optimizer_scratch = None"
   ]
  },
  {
   "cell_type": "markdown",
   "metadata": {
    "colab_type": "text",
    "id": "_EwOHKjnEGtJ"
   },
   "source": [
    "### (IMPLEMENTATION) Train and Validate the Model\n",
    "\n",
    "생성한 모형을 훈련하고 validation을 수행한다.훈련된 모형은 `'model_scratch.pt'` 파일로 저장하시오.  \n",
    "[Save the final model parameters](http://pytorch.org/docs/master/notes/serialization.html)"
   ]
  },
  {
   "cell_type": "code",
   "execution_count": null,
   "metadata": {
    "colab": {},
    "colab_type": "code",
    "id": "11USBT7qEGtJ"
   },
   "outputs": [],
   "source": [
    "# the following import is required for training to be robust to truncated images\n",
    "from PIL import ImageFile\n",
    "ImageFile.LOAD_TRUNCATED_IMAGES = True\n",
    "\n",
    "def train(n_epochs, loaders, model, optimizer, criterion, use_cuda, save_path):\n",
    "    \"\"\"returns trained model\"\"\"\n",
    "    # initialize tracker for minimum validation loss\n",
    "    valid_loss_min = np.Inf \n",
    "    \n",
    "    for epoch in range(1, n_epochs+1):\n",
    "        # initialize variables to monitor training and validation loss\n",
    "        train_loss = 0.0\n",
    "        valid_loss = 0.0\n",
    "        \n",
    "        ###################\n",
    "        # train the model #\n",
    "        ###################\n",
    "        model.train()\n",
    "        for batch_idx, (data, target) in enumerate(loaders['train']):\n",
    "            # move to GPU\n",
    "            if use_cuda:\n",
    "                data, target = data.cuda(), target.cuda()\n",
    "            ## find the loss and update the model parameters accordingly\n",
    "            ## record the average training loss, using something like\n",
    "            ## train_loss = train_loss + ((1 / (batch_idx + 1)) * (loss.data - train_loss))\n",
    "            \n",
    "        ######################    \n",
    "        # validate the model #\n",
    "        ######################\n",
    "        model.eval()\n",
    "        for batch_idx, (data, target) in enumerate(loaders['valid']):\n",
    "            # move to GPU\n",
    "            if use_cuda:\n",
    "                data, target = data.cuda(), target.cuda()\n",
    "            ## update the average validation loss\n",
    "\n",
    "            \n",
    "        # print training/validation statistics \n",
    "        print('Epoch: {} \\tTraining Loss: {:.6f} \\tValidation Loss: {:.6f}'.format(\n",
    "            epoch, \n",
    "            train_loss,\n",
    "            valid_loss\n",
    "            ))\n",
    "        \n",
    "        ## TODO: save the model if validation loss has decreased\n",
    "            \n",
    "    # return trained model\n",
    "    return model\n",
    "\n",
    "\n",
    "# train the model\n",
    "model_scratch = train(100, loaders_scratch, model_scratch, optimizer_scratch, \n",
    "                      criterion_scratch, use_cuda, 'model_scratch.pt')\n",
    "\n",
    "# load the model that got the best validation accuracy\n",
    "model_scratch.load_state_dict(torch.load('model_scratch.pt'))"
   ]
  },
  {
   "cell_type": "markdown",
   "metadata": {
    "colab_type": "text",
    "id": "9MRRRtyhEGtM"
   },
   "source": [
    "### (IMPLEMENTATION) Test the Model\n",
    "\n",
    "위에서 작성한 모형에 대해 test를 진행하시오. test loss와 test accuracy를 출력하시오. test accuracy는 10% 이상이 되어야 한다.\n"
   ]
  },
  {
   "cell_type": "code",
   "execution_count": null,
   "metadata": {
    "colab": {},
    "colab_type": "code",
    "id": "fiQClm4JEGtN"
   },
   "outputs": [],
   "source": [
    "def test(loaders, model, criterion, use_cuda):\n",
    "\n",
    "    # monitor test loss and accuracy\n",
    "    test_loss = 0.\n",
    "    correct = 0.\n",
    "    total = 0.\n",
    "\n",
    "    model.eval()\n",
    "    for batch_idx, (data, target) in enumerate(loaders['test']):\n",
    "        # move to GPU\n",
    "        if use_cuda:\n",
    "            data, target = data.cuda(), target.cuda()\n",
    "        # forward pass: compute predicted outputs by passing inputs to the model\n",
    "        output = model(data)\n",
    "        # calculate the loss\n",
    "        loss = criterion(output, target)\n",
    "        # update average test loss \n",
    "        test_loss = test_loss + ((1 / (batch_idx + 1)) * (loss.data - test_loss))\n",
    "        # convert output probabilities to predicted class\n",
    "        pred = output.data.max(1, keepdim=True)[1]\n",
    "        # compare predictions to true label\n",
    "        correct += np.sum(np.squeeze(pred.eq(target.data.view_as(pred))).cpu().numpy())\n",
    "        total += data.size(0)\n",
    "            \n",
    "    print('Test Loss: {:.6f}\\n'.format(test_loss))\n",
    "\n",
    "    print('\\nTest Accuracy: %2d%% (%2d/%2d)' % (\n",
    "        100. * correct / total, correct, total))\n",
    "\n",
    "# call test function    \n",
    "test(loaders_scratch, model_scratch, criterion_scratch, use_cuda)"
   ]
  },
  {
   "cell_type": "markdown",
   "metadata": {
    "colab_type": "text",
    "id": "PjBP3b6WEGtR"
   },
   "source": [
    "---\n",
    "\n",
    "## Step 3: Create a CNN to Classify Dog Breeds (using Transfer Learning)\n",
    "\n",
    "transfer learning 을 사용하여 개의 품종을 예측하는 모형을 생성하시오. 생성된 모형의 test accuracy는 최소한 60% 이상을 달성하도록 하시오.\n",
    "\n",
    "### (IMPLEMENTATION) Specify Data Loaders for the Dog Dataset\n",
    "\n",
    "**앞서 작성한 데이터 로더를 그대로 사용할 수 있다.**\n"
   ]
  },
  {
   "cell_type": "code",
   "execution_count": null,
   "metadata": {
    "colab": {},
    "colab_type": "code",
    "id": "GMkQMSCOEGtR"
   },
   "outputs": [],
   "source": [
    "## TODO: Specify data loaders\n"
   ]
  },
  {
   "cell_type": "markdown",
   "metadata": {
    "colab_type": "text",
    "id": "LBe1FjaDEGtU"
   },
   "source": [
    "### (IMPLEMENTATION) Model Architecture\n",
    "\n",
    "transfer learning을 사용하여 개의 품종을 예측 분류하는 모형을 생성하시오. "
   ]
  },
  {
   "cell_type": "code",
   "execution_count": null,
   "metadata": {
    "colab": {},
    "colab_type": "code",
    "id": "D-mxkWZ0EGtU"
   },
   "outputs": [],
   "source": [
    "import torchvision.models as models\n",
    "import torch.nn as nn\n",
    "\n",
    "## TODO: Specify model architecture \n",
    "\n",
    "\n",
    "if use_cuda:\n",
    "    model_transfer = model_transfer.cuda()"
   ]
  },
  {
   "cell_type": "markdown",
   "metadata": {
    "colab_type": "text",
    "id": "mDG2Wt0AEGtX"
   },
   "source": [
    "__Question :__  다음 질문에 답하시오.\n",
    "* pretrained model로 어떤 모형을 사용하였는가? 이유는 무엇인가?\n",
    "* parameter를 freeze하였는가?\n",
    "* 마지막 FC layer를 어떻게 수정하여 classifier를 생성하였는가?\n"
   ]
  },
  {
   "cell_type": "markdown",
   "metadata": {
    "colab_type": "text",
    "id": "LTBZlQULEGtX"
   },
   "source": [
    "__Answer:__ \n",
    "\n",
    "> **이곳을 더블클릭하여 답변을 작성하시오.**\n"
   ]
  },
  {
   "cell_type": "markdown",
   "metadata": {
    "colab_type": "text",
    "id": "8bwG5CPCEGtY"
   },
   "source": [
    "### (IMPLEMENTATION) Specify Loss Function and Optimizer\n",
    "\n",
    "[loss function](http://pytorch.org/docs/master/nn.html#loss-functions) 와 [optimizer](http://pytorch.org/docs/master/optim.html)을 설정하시오.\n"
   ]
  },
  {
   "cell_type": "code",
   "execution_count": null,
   "metadata": {
    "colab": {},
    "colab_type": "code",
    "id": "gHxdcvTLEGtY"
   },
   "outputs": [],
   "source": [
    "criterion_transfer = None\n",
    "optimizer_transfer = None"
   ]
  },
  {
   "cell_type": "markdown",
   "metadata": {
    "colab_type": "text",
    "id": "ydGZKnOiEGtb"
   },
   "source": [
    "### (IMPLEMENTATION) Train and Validate the Model\n",
    "\n",
    "모형을 훈련하고 validation결과를 확인하시오. 생성된 최종 모형은 `'model_transfer.pt'` 파일로 저장하시오.\n"
   ]
  },
  {
   "cell_type": "code",
   "execution_count": null,
   "metadata": {
    "colab": {},
    "colab_type": "code",
    "id": "OUkjkAcJEGtc"
   },
   "outputs": [],
   "source": [
    "# train the model\n",
    "model_transfer = # train(n_epochs, loaders_transfer, model_transfer, optimizer_transfer, criterion_transfer, use_cuda, 'model_transfer.pt')\n",
    "\n",
    "# load the model that got the best validation accuracy (uncomment the line below)\n",
    "#model_transfer.load_state_dict(torch.load('model_transfer.pt'))"
   ]
  },
  {
   "cell_type": "markdown",
   "metadata": {
    "colab_type": "text",
    "id": "YUmKtwc5EGtf"
   },
   "source": [
    "### (IMPLEMENTATION) Test the Model\n",
    "\n",
    "생성된 모형을 test하시오. 테스트 결과는 test accuracy가 60% 이상이 되어야 한다.\n"
   ]
  },
  {
   "cell_type": "code",
   "execution_count": null,
   "metadata": {
    "colab": {},
    "colab_type": "code",
    "id": "41QTj0WhEGtf"
   },
   "outputs": [],
   "source": [
    "test(loaders_transfer, model_transfer, criterion_transfer, use_cuda)"
   ]
  },
  {
   "cell_type": "markdown",
   "metadata": {
    "colab_type": "text",
    "id": "T9J4_9C9EGti"
   },
   "source": [
    "### (IMPLEMENTATION) Predict Dog Breed with the Model\n",
    "\n",
    "개의 품종을 예측하는 다음의 함수를 완성하시오.  \n",
    "\n",
    "입력으로 사진이미지 파일을 받아서 개의 품종을 출력하시오. (예를 들면, `Affenpinscher`, `Afghan hound`, 등등)\n"
   ]
  },
  {
   "cell_type": "code",
   "execution_count": null,
   "metadata": {
    "colab": {},
    "colab_type": "code",
    "id": "2eDRPdJwEGti"
   },
   "outputs": [],
   "source": [
    "### TODO: Write a function that takes a path to an image as input\n",
    "### and returns the dog breed that is predicted by the model.\n",
    "\n",
    "# list of class names by index, i.e. a name can be accessed like class_names[0]\n",
    "class_names = [item[4:].replace(\"_\", \" \") for item in data_transfer['train'].classes]\n",
    "\n",
    "def predict_breed_transfer(img_path):\n",
    "    # load the image and return the predicted breed\n",
    "    return None"
   ]
  },
  {
   "cell_type": "markdown",
   "metadata": {
    "colab_type": "text",
    "id": "Zt550UrrEGtk"
   },
   "source": [
    "---\n",
    "\n",
    "## Step 4: Write your Algorithm\n",
    "\n",
    "다음과 같은 함수를 작성하시오.  \n",
    "\n",
    "- 이미지에서 개가 detect 되면 개의 품종을 예측하여 출력하시오.\n",
    "- 이미지에서 개가 detect 되지 않으면 에러 메세지를 출력하도록 하시오.\n",
    "\n",
    "\n",
    "\n",
    "### (IMPLEMENTATION) Write your Algorithm"
   ]
  },
  {
   "cell_type": "code",
   "execution_count": null,
   "metadata": {
    "colab": {},
    "colab_type": "code",
    "id": "9laZaT1XEGtl"
   },
   "outputs": [],
   "source": [
    "### TODO: Write your algorithm.\n",
    "### Feel free to use as many code cells as needed.\n",
    "\n",
    "def run_app(img_path):\n",
    "    ## 개 이미지 또는 개가 아닌 이미지에 대해 처리할 수 있도록 한다.\n",
    "    \n"
   ]
  },
  {
   "cell_type": "markdown",
   "metadata": {
    "colab_type": "text",
    "id": "-78Rjn5XEGtn"
   },
   "source": [
    "## Sample Test\n",
    "\n",
    "임의의 이미지로 위에서 작성한 함수를 테스트해서 제대로 된 결과가 나오는지 확인하시오.\n"
   ]
  },
  {
   "cell_type": "code",
   "execution_count": null,
   "metadata": {},
   "outputs": [],
   "source": [
    "## TODO \n",
    "# 임의의 개 이미지로 개의 품종을 출력해보시오\n",
    "# 개가 아닌 이미지로 테스트 해 보시오."
   ]
  },
  {
   "cell_type": "markdown",
   "metadata": {
    "colab_type": "text",
    "id": "RgNHCJ9bEGto"
   },
   "source": [
    "__Question :__ 최종 결과를 확인하고 다음의 질문에 답하시오.\n",
    "\n",
    "* 최종 모형을 개선할 수 있는 방법에 대해서 생각해 보시오.\n",
    "* test accuracy를 높이기 위해서 추가적으로 고려 할 수 있는 방법으로는 어떤게 있을까? \n",
    "\n"
   ]
  },
  {
   "cell_type": "markdown",
   "metadata": {},
   "source": [
    "__Answer:__ \n",
    "> **여기에 여러분의 답을 작성해보시오.**\n"
   ]
  }
 ],
 "metadata": {
  "anaconda-cloud": {},
  "colab": {
   "collapsed_sections": [],
   "name": "dog_app.ipynb",
   "provenance": []
  },
  "kernelspec": {
   "display_name": "Python 3",
   "language": "python",
   "name": "python3"
  },
  "language_info": {
   "codemirror_mode": {
    "name": "ipython",
    "version": 3
   },
   "file_extension": ".py",
   "mimetype": "text/x-python",
   "name": "python",
   "nbconvert_exporter": "python",
   "pygments_lexer": "ipython3",
   "version": "3.7.6"
  }
 },
 "nbformat": 4,
 "nbformat_minor": 1
}
